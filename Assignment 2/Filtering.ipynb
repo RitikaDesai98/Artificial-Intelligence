{
 "cells": [
  {
   "cell_type": "code",
   "execution_count": null,
   "id": "aa961431",
   "metadata": {},
   "outputs": [],
   "source": [
    "import numpy as np\n",
    "\n",
    "def filtering(evidence_data_add, prior, total_day):\n",
    "    # you need to implement this method.\n",
    "\n",
    "    x_prob_rain = []\n",
    "    rain_prob = []\n",
    "    p = np.array([[prior[0]],[prior[1]]])    # create an array to store the prior values\n",
    "    prior = p\n",
    "    f = open(evidence_data_add, \"r\")\n",
    "    \n",
    "    for line in f:\n",
    "        sensor = 'take' in line         \n",
    "        rain = np.array([[0.7, 0.3], [0.3, 0.7]])   # create a transition model values array        \n",
    "        if sensor:  # if loop for when the director has taken the umbrella        \n",
    "            p_val = np.array([[0.9, 0.0], [0.0, 0.2]])  # create a sensor model values array for when the umbrella was taken            \n",
    "            a = np.matmul(p_val, rain)   # matrix multiplication to get P(U|R)P(R1|R0)            \n",
    "            temp = np.matmul(a, prior)   # matrix multiplication with alpha             \n",
    "            tempsum = temp[0] + temp[1]  # calculate the new value of alpha\n",
    "            temp[0] = temp[0] / tempsum\n",
    "            temp[1] = temp[1] / tempsum\n",
    "            prior = temp\n",
    "        \n",
    "        else:  # create a sensor model values array when the umbrella was not taken\n",
    "            n_val = np.array([[0.1,0.0],[0.0,0.8]])  # create a sensor model values array for when the umbrella was not taken            \n",
    "            a = np.matmul(n_val, rain)  # matrix multiplication to get P(U|R)P(R1|R0)             \n",
    "            temp = np.matmul(a, prior)  # matrix multiplication with alpha            \n",
    "            tempsum = temp[0] + temp[1] # calculate the new value of alpha\n",
    "            temp[0] = temp[0] / tempsum\n",
    "            temp[1] = temp[1] / tempsum\n",
    "            prior = temp             \n",
    "        \n",
    "        rain_prob.append(prior)\n",
    "        \n",
    "    for i in range(100):        \n",
    "        x_prob_rain.append(rain_prob[i][0])\n",
    "        \n",
    "    return x_prob_rain\n",
    "\n",
    "# following lines are main function:\n",
    "evidence_data_add = \"assign2_umbrella.txt\"\n",
    "total_day = 100\n",
    "# the prior distribution on the initial state, P(X0). 50% rainy, and 50% sunny on day 0.\n",
    "prior = [0.5, 0.5]\n",
    "\n",
    "x_prob_rain=filtering(evidence_data_add, prior, total_day)\n",
    "for i in range(100):\n",
    "    print(\"Day \" + str(i+1) + \": rain \" + str(x_prob_rain[i]) + \", sunny \" + str(1 - x_prob_rain[i]))"
   ]
  }
 ],
 "metadata": {
  "kernelspec": {
   "display_name": "Python 3 (ipykernel)",
   "language": "python",
   "name": "python3"
  },
  "language_info": {
   "codemirror_mode": {
    "name": "ipython",
    "version": 3
   },
   "file_extension": ".py",
   "mimetype": "text/x-python",
   "name": "python",
   "nbconvert_exporter": "python",
   "pygments_lexer": "ipython3",
   "version": "3.9.7"
  }
 },
 "nbformat": 4,
 "nbformat_minor": 5
}
